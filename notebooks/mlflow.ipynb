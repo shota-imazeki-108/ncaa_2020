{
 "cells": [
  {
   "cell_type": "markdown",
   "metadata": {},
   "source": [
    "# mlflow tutorial\n",
    "### 参考URL\n",
    "- https://www.mlflow.org/docs/latest/tracking.html\n",
    "- https://blog.imind.jp/entry/2019/06/14/223224\n",
    "- https://qiita.com/masa26hiro/items/574c48d523ed76e76a3b\n",
    "- https://qiita.com/ike_dai/items/3121a8cc8398c6ec6a33"
   ]
  },
  {
   "cell_type": "code",
   "execution_count": 1,
   "metadata": {},
   "outputs": [],
   "source": [
    "import mlflow\n",
    "import pandas as pd"
   ]
  },
  {
   "cell_type": "markdown",
   "metadata": {},
   "source": [
    "# set tracking uri"
   ]
  },
  {
   "cell_type": "code",
   "execution_count": 2,
   "metadata": {},
   "outputs": [
    {
     "data": {
      "text/plain": [
       "'../mlflow/test2/mlruns/'"
      ]
     },
     "execution_count": 2,
     "metadata": {},
     "output_type": "execute_result"
    }
   ],
   "source": [
    "# 保存先の指定と確認、指定しなければ直下にできる、今後はそのディレクトリ直下を見に行くようになる\n",
    "# s3とかのも見に行けるから共同でやるときに便利そう(多分gitのもいける)\n",
    "# databricks社が開発しているから、databricksのworkspaceにも指定できるっぽい\n",
    "# mlrunsフォルダにexperimentの結果を格納する必要があるらしい。\n",
    "mlflow.set_tracking_uri('../mlflow/test2/mlruns/')\n",
    "mlflow.tracking.get_tracking_uri()"
   ]
  },
  {
   "cell_type": "markdown",
   "metadata": {},
   "source": [
    "# create experiment"
   ]
  },
  {
   "cell_type": "code",
   "execution_count": 3,
   "metadata": {
    "scrolled": true
   },
   "outputs": [
    {
     "name": "stderr",
     "output_type": "stream",
     "text": [
      "/Users/s.imazeki/.pyenv/versions/anaconda3-5.3.1/lib/python3.7/site-packages/yaml/constructor.py:126: DeprecationWarning: Using or importing the ABCs from 'collections' instead of from 'collections.abc' is deprecated, and in 3.8 it will stop working\n",
      "  if not isinstance(key, collections.Hashable):\n"
     ]
    }
   ],
   "source": [
    "# experimentの作成、戻り値でIDが返される（後々使う？）\n",
    "# experimentの切り分けは色々ありそう（モデルごと、特徴量ごと、案件ごと等）\n",
    "experiment_id =  mlflow.create_experiment('compare_max_depth')"
   ]
  },
  {
   "cell_type": "code",
   "execution_count": 4,
   "metadata": {},
   "outputs": [],
   "source": [
    "# エクスペリメントの指定、なければ自動で作成される\n",
    "mlflow.set_experiment('compare_max_depth')"
   ]
  },
  {
   "cell_type": "markdown",
   "metadata": {},
   "source": [
    "# run!"
   ]
  },
  {
   "cell_type": "code",
   "execution_count": 5,
   "metadata": {
    "scrolled": true
   },
   "outputs": [
    {
     "data": {
      "text/html": [
       "<div>\n",
       "<style scoped>\n",
       "    .dataframe tbody tr th:only-of-type {\n",
       "        vertical-align: middle;\n",
       "    }\n",
       "\n",
       "    .dataframe tbody tr th {\n",
       "        vertical-align: top;\n",
       "    }\n",
       "\n",
       "    .dataframe thead th {\n",
       "        text-align: right;\n",
       "    }\n",
       "</style>\n",
       "<table border=\"1\" class=\"dataframe\">\n",
       "  <thead>\n",
       "    <tr style=\"text-align: right;\">\n",
       "      <th></th>\n",
       "      <th>run_id</th>\n",
       "      <th>experiment_id</th>\n",
       "      <th>status</th>\n",
       "      <th>artifact_uri</th>\n",
       "      <th>start_time</th>\n",
       "      <th>end_time</th>\n",
       "    </tr>\n",
       "  </thead>\n",
       "  <tbody>\n",
       "  </tbody>\n",
       "</table>\n",
       "</div>"
      ],
      "text/plain": [
       "Empty DataFrame\n",
       "Columns: [run_id, experiment_id, status, artifact_uri, start_time, end_time]\n",
       "Index: []"
      ]
     },
     "execution_count": 5,
     "metadata": {},
     "output_type": "execute_result"
    }
   ],
   "source": [
    "# runのリストを取得、初回実行前はもちろん何もない。\n",
    "mlflow.search_runs()"
   ]
  },
  {
   "cell_type": "code",
   "execution_count": 9,
   "metadata": {},
   "outputs": [],
   "source": [
    "d = {'col1': [1, 2], 'col2': [3, 4]}\n",
    "df = pd.DataFrame(data=d)\n",
    "\n",
    "# logs a local file or directory as an artifact\n",
    "df.to_csv('./test.csv')\n",
    "\n",
    "with mlflow.start_run():\n",
    "    mlflow.log_artifact('./test.csv') # 試してないけど、pickleとか\n",
    "    mlflow.log_param('param1', 3)\n",
    "    mlflow.log_metric('metric1', 0.3)"
   ]
  },
  {
   "cell_type": "code",
   "execution_count": 7,
   "metadata": {},
   "outputs": [
    {
     "data": {
      "text/html": [
       "<div>\n",
       "<style scoped>\n",
       "    .dataframe tbody tr th:only-of-type {\n",
       "        vertical-align: middle;\n",
       "    }\n",
       "\n",
       "    .dataframe tbody tr th {\n",
       "        vertical-align: top;\n",
       "    }\n",
       "\n",
       "    .dataframe thead th {\n",
       "        text-align: right;\n",
       "    }\n",
       "</style>\n",
       "<table border=\"1\" class=\"dataframe\">\n",
       "  <thead>\n",
       "    <tr style=\"text-align: right;\">\n",
       "      <th></th>\n",
       "      <th>run_id</th>\n",
       "      <th>experiment_id</th>\n",
       "      <th>status</th>\n",
       "      <th>artifact_uri</th>\n",
       "      <th>start_time</th>\n",
       "      <th>end_time</th>\n",
       "      <th>metrics.metric1</th>\n",
       "      <th>params.param1</th>\n",
       "      <th>tags.mlflow.user</th>\n",
       "      <th>tags.mlflow.source.git.commit</th>\n",
       "      <th>tags.mlflow.source.type</th>\n",
       "      <th>tags.mlflow.source.name</th>\n",
       "    </tr>\n",
       "  </thead>\n",
       "  <tbody>\n",
       "    <tr>\n",
       "      <th>0</th>\n",
       "      <td>5338b53abf2b45a6bfe48c1e6f6e6ea5</td>\n",
       "      <td>1</td>\n",
       "      <td>FINISHED</td>\n",
       "      <td>../mlflow/test2/mlruns/1/5338b53abf2b45a6bfe48...</td>\n",
       "      <td>2020-03-15 05:16:06.466000+00:00</td>\n",
       "      <td>2020-03-15 05:16:06.589000+00:00</td>\n",
       "      <td>0.1</td>\n",
       "      <td>1</td>\n",
       "      <td>s.imazeki</td>\n",
       "      <td>97bf8b5f00284af63c34ae660e047ad3cf497369</td>\n",
       "      <td>LOCAL</td>\n",
       "      <td>/Users/s.imazeki/.pyenv/versions/anaconda3-5.3...</td>\n",
       "    </tr>\n",
       "  </tbody>\n",
       "</table>\n",
       "</div>"
      ],
      "text/plain": [
       "                             run_id experiment_id    status  \\\n",
       "0  5338b53abf2b45a6bfe48c1e6f6e6ea5             1  FINISHED   \n",
       "\n",
       "                                        artifact_uri  \\\n",
       "0  ../mlflow/test2/mlruns/1/5338b53abf2b45a6bfe48...   \n",
       "\n",
       "                        start_time                         end_time  \\\n",
       "0 2020-03-15 05:16:06.466000+00:00 2020-03-15 05:16:06.589000+00:00   \n",
       "\n",
       "   metrics.metric1 params.param1 tags.mlflow.user  \\\n",
       "0              0.1             1        s.imazeki   \n",
       "\n",
       "              tags.mlflow.source.git.commit tags.mlflow.source.type  \\\n",
       "0  97bf8b5f00284af63c34ae660e047ad3cf497369                   LOCAL   \n",
       "\n",
       "                             tags.mlflow.source.name  \n",
       "0  /Users/s.imazeki/.pyenv/versions/anaconda3-5.3...  "
      ]
     },
     "execution_count": 7,
     "metadata": {},
     "output_type": "execute_result"
    }
   ],
   "source": [
    "# runのリストを取得\n",
    "# 結果を見れる\n",
    "# 下記方法(Viewing the Tracking UI)でもっとイカすUIで見れるらしい\n",
    "# https://www.mlflow.org/docs/latest/quickstart.html#quickstart\n",
    "mlflow.search_runs()"
   ]
  },
  {
   "cell_type": "code",
   "execution_count": 47,
   "metadata": {},
   "outputs": [
    {
     "data": {
      "text/html": [
       "<div>\n",
       "<style scoped>\n",
       "    .dataframe tbody tr th:only-of-type {\n",
       "        vertical-align: middle;\n",
       "    }\n",
       "\n",
       "    .dataframe tbody tr th {\n",
       "        vertical-align: top;\n",
       "    }\n",
       "\n",
       "    .dataframe thead th {\n",
       "        text-align: right;\n",
       "    }\n",
       "</style>\n",
       "<table border=\"1\" class=\"dataframe\">\n",
       "  <thead>\n",
       "    <tr style=\"text-align: right;\">\n",
       "      <th></th>\n",
       "      <th>run_id</th>\n",
       "      <th>experiment_id</th>\n",
       "      <th>status</th>\n",
       "      <th>artifact_uri</th>\n",
       "      <th>start_time</th>\n",
       "      <th>end_time</th>\n",
       "    </tr>\n",
       "  </thead>\n",
       "  <tbody>\n",
       "  </tbody>\n",
       "</table>\n",
       "</div>"
      ],
      "text/plain": [
       "Empty DataFrame\n",
       "Columns: [run_id, experiment_id, status, artifact_uri, start_time, end_time]\n",
       "Index: []"
      ]
     },
     "execution_count": 47,
     "metadata": {},
     "output_type": "execute_result"
    }
   ],
   "source": [
    "# experimentを変えれば、runも変わる\n",
    "mlflow.set_experiment('test_runs2')\n",
    "mlflow.search_runs()"
   ]
  },
  {
   "cell_type": "markdown",
   "metadata": {},
   "source": [
    "# download artifacts"
   ]
  },
  {
   "cell_type": "code",
   "execution_count": 14,
   "metadata": {
    "scrolled": true
   },
   "outputs": [
    {
     "data": {
      "text/plain": [
       "[<FileInfo: file_size=23, is_dir=False, path='test.csv'>]"
      ]
     },
     "execution_count": 14,
     "metadata": {},
     "output_type": "execute_result"
    }
   ],
   "source": [
    "# logをとったartifactの取得\n",
    "tracking = mlflow.tracking.MlflowClient()\n",
    "tracking.list_artifacts(run_id='9175be40c10d4a6491cfb8536fbc6ea8')"
   ]
  },
  {
   "cell_type": "code",
   "execution_count": 15,
   "metadata": {},
   "outputs": [
    {
     "data": {
      "text/plain": [
       "'/Users/s.imazeki/Documents/kaggle/NCAA/mlflow/1/9175be40c10d4a6491cfb8536fbc6ea8/artifacts/test.csv'"
      ]
     },
     "execution_count": 15,
     "metadata": {},
     "output_type": "execute_result"
    }
   ],
   "source": [
    "# dstを指定しない場合はuriの中に。\n",
    "tracking.download_artifacts('9175be40c10d4a6491cfb8536fbc6ea8', 'test.csv')"
   ]
  },
  {
   "cell_type": "code",
   "execution_count": 16,
   "metadata": {},
   "outputs": [
    {
     "data": {
      "text/plain": [
       "'/Users/s.imazeki/Documents/kaggle/NCAA/notebooks/test.csv'"
      ]
     },
     "execution_count": 16,
     "metadata": {},
     "output_type": "execute_result"
    }
   ],
   "source": [
    "tracking.download_artifacts('9175be40c10d4a6491cfb8536fbc6ea8', 'test.csv', './')"
   ]
  },
  {
   "cell_type": "markdown",
   "metadata": {},
   "source": [
    "# tips的な"
   ]
  },
  {
   "cell_type": "code",
   "execution_count": 33,
   "metadata": {},
   "outputs": [],
   "source": [
    "# こけたやつとか不要なやつ消せる\n",
    "# 本来はおそらくstaus見てfailedのやつでフィルターかけて消す運用になりそう。\n",
    "# start_run時にパラメータで既存のruin_idを指定すると上書きできるっぽい（ないやつを指定したらnot found）\n",
    "tracking = mlflow.tracking.MlflowClient()\n",
    "tracking.delete_run('067f32de2308491997e44d1c958842c9')"
   ]
  },
  {
   "cell_type": "code",
   "execution_count": 12,
   "metadata": {
    "scrolled": true
   },
   "outputs": [
    {
     "data": {
      "text/plain": [
       "'compare_max_depth'"
      ]
     },
     "execution_count": 12,
     "metadata": {},
     "output_type": "execute_result"
    }
   ],
   "source": [
    "# idからname取得\n",
    "tracking = mlflow.tracking.MlflowClient()\n",
    "experimet = tracking.get_experiment('1')\n",
    "experimet.name"
   ]
  },
  {
   "cell_type": "code",
   "execution_count": 19,
   "metadata": {},
   "outputs": [
    {
     "data": {
      "text/plain": [
       "'1'"
      ]
     },
     "execution_count": 19,
     "metadata": {},
     "output_type": "execute_result"
    }
   ],
   "source": [
    "# interface to MLflow experiments and runs\n",
    "# よくわかってないけど、trackingモジュールのが色々触れるんだろうなって感じかな（適当）\n",
    "tracking = mlflow.tracking.MlflowClient()\n",
    "experiment = tracking.get_experiment_by_name('test_runs')\n",
    "# tracking_idの取得\n",
    "experiment.experiment_id"
   ]
  },
  {
   "cell_type": "code",
   "execution_count": 20,
   "metadata": {},
   "outputs": [
    {
     "data": {
      "text/plain": [
       "[<Experiment: artifact_location='../mlflow/0', experiment_id='0', lifecycle_stage='active', name='Default', tags={}>,\n",
       " <Experiment: artifact_location='../mlflow/1', experiment_id='1', lifecycle_stage='active', name='test_runs', tags={}>]"
      ]
     },
     "execution_count": 20,
     "metadata": {},
     "output_type": "execute_result"
    }
   ],
   "source": [
    "# experiment list\n",
    "tracking.list_experiments()"
   ]
  },
  {
   "cell_type": "code",
   "execution_count": 61,
   "metadata": {},
   "outputs": [],
   "source": [
    "with mlflow.start_run():\n",
    "    mlflow.log_param('test1', 1)\n",
    "    mlflow.log_param('test2', 2)\n",
    "    mlflow.log_param('test3', 3) # 追加\n",
    "    mlflow.log_metric('metric', 100)"
   ]
  },
  {
   "cell_type": "code",
   "execution_count": 62,
   "metadata": {},
   "outputs": [
    {
     "data": {
      "text/html": [
       "<div>\n",
       "<style scoped>\n",
       "    .dataframe tbody tr th:only-of-type {\n",
       "        vertical-align: middle;\n",
       "    }\n",
       "\n",
       "    .dataframe tbody tr th {\n",
       "        vertical-align: top;\n",
       "    }\n",
       "\n",
       "    .dataframe thead th {\n",
       "        text-align: right;\n",
       "    }\n",
       "</style>\n",
       "<table border=\"1\" class=\"dataframe\">\n",
       "  <thead>\n",
       "    <tr style=\"text-align: right;\">\n",
       "      <th></th>\n",
       "      <th>run_id</th>\n",
       "      <th>experiment_id</th>\n",
       "      <th>status</th>\n",
       "      <th>artifact_uri</th>\n",
       "      <th>start_time</th>\n",
       "      <th>end_time</th>\n",
       "      <th>metrics.metric</th>\n",
       "      <th>params.test3</th>\n",
       "      <th>params.test2</th>\n",
       "      <th>params.test1</th>\n",
       "      <th>tags.mlflow.source.git.commit</th>\n",
       "      <th>tags.mlflow.source.name</th>\n",
       "      <th>tags.mlflow.user</th>\n",
       "      <th>tags.mlflow.source.type</th>\n",
       "    </tr>\n",
       "  </thead>\n",
       "  <tbody>\n",
       "    <tr>\n",
       "      <th>0</th>\n",
       "      <td>d39bc244caf24a62aa8973a9c3aed564</td>\n",
       "      <td>1</td>\n",
       "      <td>FINISHED</td>\n",
       "      <td>../mlflow/1/d39bc244caf24a62aa8973a9c3aed564/a...</td>\n",
       "      <td>2020-03-01 08:49:31.100000+00:00</td>\n",
       "      <td>2020-03-01 08:49:31.303000+00:00</td>\n",
       "      <td>100.0</td>\n",
       "      <td>3</td>\n",
       "      <td>2</td>\n",
       "      <td>1</td>\n",
       "      <td>97bf8b5f00284af63c34ae660e047ad3cf497369</td>\n",
       "      <td>/Users/s.imazeki/.pyenv/versions/anaconda3-5.3...</td>\n",
       "      <td>s.imazeki</td>\n",
       "      <td>LOCAL</td>\n",
       "    </tr>\n",
       "    <tr>\n",
       "      <th>1</th>\n",
       "      <td>0a41f715048f48618c44bae34de12294</td>\n",
       "      <td>1</td>\n",
       "      <td>FINISHED</td>\n",
       "      <td>../mlflow/1/0a41f715048f48618c44bae34de12294/a...</td>\n",
       "      <td>2020-03-01 08:12:21.442000+00:00</td>\n",
       "      <td>2020-03-01 08:12:21.618000+00:00</td>\n",
       "      <td>100.0</td>\n",
       "      <td>None</td>\n",
       "      <td>2</td>\n",
       "      <td>1</td>\n",
       "      <td>97bf8b5f00284af63c34ae660e047ad3cf497369</td>\n",
       "      <td>/Users/s.imazeki/.pyenv/versions/anaconda3-5.3...</td>\n",
       "      <td>s.imazeki</td>\n",
       "      <td>LOCAL</td>\n",
       "    </tr>\n",
       "    <tr>\n",
       "      <th>2</th>\n",
       "      <td>ab9ec5df0bf94bad84a3b60601909d18</td>\n",
       "      <td>1</td>\n",
       "      <td>FINISHED</td>\n",
       "      <td>../mlflow/1/ab9ec5df0bf94bad84a3b60601909d18/a...</td>\n",
       "      <td>2020-03-01 07:55:00.316000+00:00</td>\n",
       "      <td>2020-03-01 07:55:00.473000+00:00</td>\n",
       "      <td>100.0</td>\n",
       "      <td>None</td>\n",
       "      <td>2</td>\n",
       "      <td>1</td>\n",
       "      <td>97bf8b5f00284af63c34ae660e047ad3cf497369</td>\n",
       "      <td>/Users/s.imazeki/.pyenv/versions/anaconda3-5.3...</td>\n",
       "      <td>s.imazeki</td>\n",
       "      <td>LOCAL</td>\n",
       "    </tr>\n",
       "    <tr>\n",
       "      <th>3</th>\n",
       "      <td>efade88198304041aea82447b08367d0</td>\n",
       "      <td>1</td>\n",
       "      <td>FINISHED</td>\n",
       "      <td>../mlflow/1/efade88198304041aea82447b08367d0/a...</td>\n",
       "      <td>2020-03-01 07:54:32.705000+00:00</td>\n",
       "      <td>2020-03-01 08:34:01.761000+00:00</td>\n",
       "      <td>100.0</td>\n",
       "      <td>None</td>\n",
       "      <td>2</td>\n",
       "      <td>1</td>\n",
       "      <td>97bf8b5f00284af63c34ae660e047ad3cf497369</td>\n",
       "      <td>/Users/s.imazeki/.pyenv/versions/anaconda3-5.3...</td>\n",
       "      <td>s.imazeki</td>\n",
       "      <td>LOCAL</td>\n",
       "    </tr>\n",
       "  </tbody>\n",
       "</table>\n",
       "</div>"
      ],
      "text/plain": [
       "                             run_id experiment_id    status  \\\n",
       "0  d39bc244caf24a62aa8973a9c3aed564             1  FINISHED   \n",
       "1  0a41f715048f48618c44bae34de12294             1  FINISHED   \n",
       "2  ab9ec5df0bf94bad84a3b60601909d18             1  FINISHED   \n",
       "3  efade88198304041aea82447b08367d0             1  FINISHED   \n",
       "\n",
       "                                        artifact_uri  \\\n",
       "0  ../mlflow/1/d39bc244caf24a62aa8973a9c3aed564/a...   \n",
       "1  ../mlflow/1/0a41f715048f48618c44bae34de12294/a...   \n",
       "2  ../mlflow/1/ab9ec5df0bf94bad84a3b60601909d18/a...   \n",
       "3  ../mlflow/1/efade88198304041aea82447b08367d0/a...   \n",
       "\n",
       "                        start_time                         end_time  \\\n",
       "0 2020-03-01 08:49:31.100000+00:00 2020-03-01 08:49:31.303000+00:00   \n",
       "1 2020-03-01 08:12:21.442000+00:00 2020-03-01 08:12:21.618000+00:00   \n",
       "2 2020-03-01 07:55:00.316000+00:00 2020-03-01 07:55:00.473000+00:00   \n",
       "3 2020-03-01 07:54:32.705000+00:00 2020-03-01 08:34:01.761000+00:00   \n",
       "\n",
       "   metrics.metric params.test3 params.test2 params.test1  \\\n",
       "0           100.0            3            2            1   \n",
       "1           100.0         None            2            1   \n",
       "2           100.0         None            2            1   \n",
       "3           100.0         None            2            1   \n",
       "\n",
       "              tags.mlflow.source.git.commit  \\\n",
       "0  97bf8b5f00284af63c34ae660e047ad3cf497369   \n",
       "1  97bf8b5f00284af63c34ae660e047ad3cf497369   \n",
       "2  97bf8b5f00284af63c34ae660e047ad3cf497369   \n",
       "3  97bf8b5f00284af63c34ae660e047ad3cf497369   \n",
       "\n",
       "                             tags.mlflow.source.name tags.mlflow.user  \\\n",
       "0  /Users/s.imazeki/.pyenv/versions/anaconda3-5.3...        s.imazeki   \n",
       "1  /Users/s.imazeki/.pyenv/versions/anaconda3-5.3...        s.imazeki   \n",
       "2  /Users/s.imazeki/.pyenv/versions/anaconda3-5.3...        s.imazeki   \n",
       "3  /Users/s.imazeki/.pyenv/versions/anaconda3-5.3...        s.imazeki   \n",
       "\n",
       "  tags.mlflow.source.type  \n",
       "0                   LOCAL  \n",
       "1                   LOCAL  \n",
       "2                   LOCAL  \n",
       "3                   LOCAL  "
      ]
     },
     "execution_count": 62,
     "metadata": {},
     "output_type": "execute_result"
    }
   ],
   "source": [
    "# 途中からparamを追加すると、それ以前のはNone\n",
    "mlflow.search_runs()"
   ]
  },
  {
   "cell_type": "code",
   "execution_count": 63,
   "metadata": {},
   "outputs": [],
   "source": [
    "with mlflow.start_run():\n",
    "    mlflow.log_param('test1', 1)\n",
    "    mlflow.log_param('test2', 2)\n",
    "    mlflow.log_param('test2', 200) # 上書き\n",
    "    mlflow.log_metric('metric', 100)"
   ]
  },
  {
   "cell_type": "code",
   "execution_count": 64,
   "metadata": {},
   "outputs": [
    {
     "data": {
      "text/html": [
       "<div>\n",
       "<style scoped>\n",
       "    .dataframe tbody tr th:only-of-type {\n",
       "        vertical-align: middle;\n",
       "    }\n",
       "\n",
       "    .dataframe tbody tr th {\n",
       "        vertical-align: top;\n",
       "    }\n",
       "\n",
       "    .dataframe thead th {\n",
       "        text-align: right;\n",
       "    }\n",
       "</style>\n",
       "<table border=\"1\" class=\"dataframe\">\n",
       "  <thead>\n",
       "    <tr style=\"text-align: right;\">\n",
       "      <th></th>\n",
       "      <th>run_id</th>\n",
       "      <th>experiment_id</th>\n",
       "      <th>status</th>\n",
       "      <th>artifact_uri</th>\n",
       "      <th>start_time</th>\n",
       "      <th>end_time</th>\n",
       "      <th>metrics.metric</th>\n",
       "      <th>params.test2</th>\n",
       "      <th>params.test1</th>\n",
       "      <th>params.test3</th>\n",
       "      <th>tags.mlflow.source.git.commit</th>\n",
       "      <th>tags.mlflow.source.name</th>\n",
       "      <th>tags.mlflow.user</th>\n",
       "      <th>tags.mlflow.source.type</th>\n",
       "    </tr>\n",
       "  </thead>\n",
       "  <tbody>\n",
       "    <tr>\n",
       "      <th>0</th>\n",
       "      <td>db1d2c705ed94b619b99ce163d3538f5</td>\n",
       "      <td>1</td>\n",
       "      <td>FINISHED</td>\n",
       "      <td>../mlflow/1/db1d2c705ed94b619b99ce163d3538f5/a...</td>\n",
       "      <td>2020-03-01 08:51:26.196000+00:00</td>\n",
       "      <td>2020-03-01 08:51:26.370000+00:00</td>\n",
       "      <td>100.0</td>\n",
       "      <td>200</td>\n",
       "      <td>1</td>\n",
       "      <td>None</td>\n",
       "      <td>97bf8b5f00284af63c34ae660e047ad3cf497369</td>\n",
       "      <td>/Users/s.imazeki/.pyenv/versions/anaconda3-5.3...</td>\n",
       "      <td>s.imazeki</td>\n",
       "      <td>LOCAL</td>\n",
       "    </tr>\n",
       "    <tr>\n",
       "      <th>1</th>\n",
       "      <td>d39bc244caf24a62aa8973a9c3aed564</td>\n",
       "      <td>1</td>\n",
       "      <td>FINISHED</td>\n",
       "      <td>../mlflow/1/d39bc244caf24a62aa8973a9c3aed564/a...</td>\n",
       "      <td>2020-03-01 08:49:31.100000+00:00</td>\n",
       "      <td>2020-03-01 08:49:31.303000+00:00</td>\n",
       "      <td>100.0</td>\n",
       "      <td>2</td>\n",
       "      <td>1</td>\n",
       "      <td>3</td>\n",
       "      <td>97bf8b5f00284af63c34ae660e047ad3cf497369</td>\n",
       "      <td>/Users/s.imazeki/.pyenv/versions/anaconda3-5.3...</td>\n",
       "      <td>s.imazeki</td>\n",
       "      <td>LOCAL</td>\n",
       "    </tr>\n",
       "    <tr>\n",
       "      <th>2</th>\n",
       "      <td>0a41f715048f48618c44bae34de12294</td>\n",
       "      <td>1</td>\n",
       "      <td>FINISHED</td>\n",
       "      <td>../mlflow/1/0a41f715048f48618c44bae34de12294/a...</td>\n",
       "      <td>2020-03-01 08:12:21.442000+00:00</td>\n",
       "      <td>2020-03-01 08:12:21.618000+00:00</td>\n",
       "      <td>100.0</td>\n",
       "      <td>2</td>\n",
       "      <td>1</td>\n",
       "      <td>None</td>\n",
       "      <td>97bf8b5f00284af63c34ae660e047ad3cf497369</td>\n",
       "      <td>/Users/s.imazeki/.pyenv/versions/anaconda3-5.3...</td>\n",
       "      <td>s.imazeki</td>\n",
       "      <td>LOCAL</td>\n",
       "    </tr>\n",
       "    <tr>\n",
       "      <th>3</th>\n",
       "      <td>ab9ec5df0bf94bad84a3b60601909d18</td>\n",
       "      <td>1</td>\n",
       "      <td>FINISHED</td>\n",
       "      <td>../mlflow/1/ab9ec5df0bf94bad84a3b60601909d18/a...</td>\n",
       "      <td>2020-03-01 07:55:00.316000+00:00</td>\n",
       "      <td>2020-03-01 07:55:00.473000+00:00</td>\n",
       "      <td>100.0</td>\n",
       "      <td>2</td>\n",
       "      <td>1</td>\n",
       "      <td>None</td>\n",
       "      <td>97bf8b5f00284af63c34ae660e047ad3cf497369</td>\n",
       "      <td>/Users/s.imazeki/.pyenv/versions/anaconda3-5.3...</td>\n",
       "      <td>s.imazeki</td>\n",
       "      <td>LOCAL</td>\n",
       "    </tr>\n",
       "    <tr>\n",
       "      <th>4</th>\n",
       "      <td>efade88198304041aea82447b08367d0</td>\n",
       "      <td>1</td>\n",
       "      <td>FINISHED</td>\n",
       "      <td>../mlflow/1/efade88198304041aea82447b08367d0/a...</td>\n",
       "      <td>2020-03-01 07:54:32.705000+00:00</td>\n",
       "      <td>2020-03-01 08:34:01.761000+00:00</td>\n",
       "      <td>100.0</td>\n",
       "      <td>2</td>\n",
       "      <td>1</td>\n",
       "      <td>None</td>\n",
       "      <td>97bf8b5f00284af63c34ae660e047ad3cf497369</td>\n",
       "      <td>/Users/s.imazeki/.pyenv/versions/anaconda3-5.3...</td>\n",
       "      <td>s.imazeki</td>\n",
       "      <td>LOCAL</td>\n",
       "    </tr>\n",
       "  </tbody>\n",
       "</table>\n",
       "</div>"
      ],
      "text/plain": [
       "                             run_id experiment_id    status  \\\n",
       "0  db1d2c705ed94b619b99ce163d3538f5             1  FINISHED   \n",
       "1  d39bc244caf24a62aa8973a9c3aed564             1  FINISHED   \n",
       "2  0a41f715048f48618c44bae34de12294             1  FINISHED   \n",
       "3  ab9ec5df0bf94bad84a3b60601909d18             1  FINISHED   \n",
       "4  efade88198304041aea82447b08367d0             1  FINISHED   \n",
       "\n",
       "                                        artifact_uri  \\\n",
       "0  ../mlflow/1/db1d2c705ed94b619b99ce163d3538f5/a...   \n",
       "1  ../mlflow/1/d39bc244caf24a62aa8973a9c3aed564/a...   \n",
       "2  ../mlflow/1/0a41f715048f48618c44bae34de12294/a...   \n",
       "3  ../mlflow/1/ab9ec5df0bf94bad84a3b60601909d18/a...   \n",
       "4  ../mlflow/1/efade88198304041aea82447b08367d0/a...   \n",
       "\n",
       "                        start_time                         end_time  \\\n",
       "0 2020-03-01 08:51:26.196000+00:00 2020-03-01 08:51:26.370000+00:00   \n",
       "1 2020-03-01 08:49:31.100000+00:00 2020-03-01 08:49:31.303000+00:00   \n",
       "2 2020-03-01 08:12:21.442000+00:00 2020-03-01 08:12:21.618000+00:00   \n",
       "3 2020-03-01 07:55:00.316000+00:00 2020-03-01 07:55:00.473000+00:00   \n",
       "4 2020-03-01 07:54:32.705000+00:00 2020-03-01 08:34:01.761000+00:00   \n",
       "\n",
       "   metrics.metric params.test2 params.test1 params.test3  \\\n",
       "0           100.0          200            1         None   \n",
       "1           100.0            2            1            3   \n",
       "2           100.0            2            1         None   \n",
       "3           100.0            2            1         None   \n",
       "4           100.0            2            1         None   \n",
       "\n",
       "              tags.mlflow.source.git.commit  \\\n",
       "0  97bf8b5f00284af63c34ae660e047ad3cf497369   \n",
       "1  97bf8b5f00284af63c34ae660e047ad3cf497369   \n",
       "2  97bf8b5f00284af63c34ae660e047ad3cf497369   \n",
       "3  97bf8b5f00284af63c34ae660e047ad3cf497369   \n",
       "4  97bf8b5f00284af63c34ae660e047ad3cf497369   \n",
       "\n",
       "                             tags.mlflow.source.name tags.mlflow.user  \\\n",
       "0  /Users/s.imazeki/.pyenv/versions/anaconda3-5.3...        s.imazeki   \n",
       "1  /Users/s.imazeki/.pyenv/versions/anaconda3-5.3...        s.imazeki   \n",
       "2  /Users/s.imazeki/.pyenv/versions/anaconda3-5.3...        s.imazeki   \n",
       "3  /Users/s.imazeki/.pyenv/versions/anaconda3-5.3...        s.imazeki   \n",
       "4  /Users/s.imazeki/.pyenv/versions/anaconda3-5.3...        s.imazeki   \n",
       "\n",
       "  tags.mlflow.source.type  \n",
       "0                   LOCAL  \n",
       "1                   LOCAL  \n",
       "2                   LOCAL  \n",
       "3                   LOCAL  \n",
       "4                   LOCAL  "
      ]
     },
     "execution_count": 64,
     "metadata": {},
     "output_type": "execute_result"
    }
   ],
   "source": [
    "# 上書きされる\n",
    "mlflow.search_runs()"
   ]
  },
  {
   "cell_type": "code",
   "execution_count": null,
   "metadata": {},
   "outputs": [],
   "source": [
    "# 複数同時入れたい時はdict型にする。\n",
    "params = {\n",
    "    'test1': 1,\n",
    "    'test2': 2\n",
    "         }\n",
    "\n",
    "with mlflow.start_run():\n",
    "#     mlflow.log_artifact('./test.csv') # 試してないけど、pickleとか\n",
    "    mlflow.log_params(params)\n",
    "    mlflow.log_metric('metric', 100)"
   ]
  },
  {
   "cell_type": "code",
   "execution_count": 25,
   "metadata": {},
   "outputs": [],
   "source": [
    "with mlflow.start_run():\n",
    "    run_id = mlflow.active_run().info.run_id\n",
    "# 再開させられる\n",
    "with mlflow.start_run(run_id=run_id):\n",
    "    print('ok')"
   ]
  },
  {
   "cell_type": "code",
   "execution_count": null,
   "metadata": {},
   "outputs": [],
   "source": []
  }
 ],
 "metadata": {
  "kernelspec": {
   "display_name": "Python 3",
   "language": "python",
   "name": "python3"
  },
  "language_info": {
   "codemirror_mode": {
    "name": "ipython",
    "version": 3
   },
   "file_extension": ".py",
   "mimetype": "text/x-python",
   "name": "python",
   "nbconvert_exporter": "python",
   "pygments_lexer": "ipython3",
   "version": "3.7.2"
  }
 },
 "nbformat": 4,
 "nbformat_minor": 2
}
